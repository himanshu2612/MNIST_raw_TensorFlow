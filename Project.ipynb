{
  "nbformat": 4,
  "nbformat_minor": 0,
  "metadata": {
    "colab": {
      "name": "Project.ipynb",
      "version": "0.3.2",
      "provenance": []
    },
    "kernelspec": {
      "name": "python2",
      "display_name": "Python 2"
    },
    "accelerator": "GPU"
  },
  "cells": [
    {
      "metadata": {
        "id": "-yEt19vh4OaZ",
        "colab_type": "code",
        "colab": {}
      },
      "cell_type": "code",
      "source": [
        "import os\n",
        "\n",
        "os.environ['TF_CPP_MIN_LOG_LEVEL'] = '2'\n",
        "\n",
        "import tensorflow as tf\n",
        "from tensorflow.examples.tutorials.mnist import input_data\n",
        "import time\n"
      ],
      "execution_count": 0,
      "outputs": []
    },
    {
      "metadata": {
        "id": "Dbi2aov95WUZ",
        "colab_type": "code",
        "colab": {}
      },
      "cell_type": "code",
      "source": [
        "learning_rate = 0.001\n",
        "batch_size = 256\n",
        "n_epochs = 25"
      ],
      "execution_count": 0,
      "outputs": []
    },
    {
      "metadata": {
        "id": "_E9Do0Cx6SMr",
        "colab_type": "code",
        "colab": {}
      },
      "cell_type": "code",
      "source": [
        "def weight_variable(shape):\n",
        "    initial = tf.truncated_normal(shape, stddev=0.1)\n",
        "    return tf.Variable(initial)\n",
        "  \n",
        "def bias_variable(shape):\n",
        "    initial = tf.constant(0.1, shape=shape)\n",
        "    return tf.Variable(initial)\n",
        "def max_pool_2x2(x):\n",
        "    return tf.nn.max_pool(x, ksize=[1, 2, 2, 1],\n",
        "                          strides=[1, 2, 2, 1], padding='SAME')\n",
        "def conv2d(x, W):\n",
        "    return tf.nn.conv2d(x, W, strides=[1, 1, 1, 1], padding='SAME')\n"
      ],
      "execution_count": 0,
      "outputs": []
    },
    {
      "metadata": {
        "id": "WzJK3cR68iTp",
        "colab_type": "code",
        "colab": {}
      },
      "cell_type": "code",
      "source": [
        "def cnn(X):\n",
        "    X = tf.reshape(X, [-1, 28, 28, 1])\n",
        "\n",
        "    W_conv1 = weight_variable([5, 5, 1, 32])\n",
        "    b_conv1 = bias_variable([32])\n",
        "    h_conv1 = tf.nn.relu(conv2d(X, W_conv1) + b_conv1)\n",
        "\n",
        "    h_pool1 = max_pool_2x2(h_conv1)\n",
        "\n",
        "    W_conv2 = weight_variable([5, 5, 32, 64])\n",
        "    b_conv2 = bias_variable([64])\n",
        "    h_conv2 = tf.nn.relu(conv2d(h_pool1, W_conv2) + b_conv2)\n",
        "\n",
        "    h_pool2 = max_pool_2x2(h_conv2)\n",
        "\n",
        "    W_fc1 = weight_variable([7 * 7 * 64, 1024])\n",
        "    b_fc1 = bias_variable([1024])\n",
        "    h_pool2 = tf.reshape(h_pool2, [-1, 7 * 7 * 64])\n",
        "    h_fc1 = tf.nn.relu(tf.matmul(h_pool2, W_fc1) + b_fc1)\n",
        "\n",
        "    W_fc2 = weight_variable([1024, 10])\n",
        "    b_fc2 = bias_variable([10])\n",
        "    logits = tf.matmul(h_fc1, W_fc2) + b_fc2\n",
        "    return logits"
      ],
      "execution_count": 0,
      "outputs": []
    },
    {
      "metadata": {
        "id": "X9Yc0MXMBhgh",
        "colab_type": "code",
        "colab": {
          "base_uri": "https://localhost:8080/",
          "height": 1142
        },
        "outputId": "0e1c463c-de28-4a90-ff5f-601fe866f387"
      },
      "cell_type": "code",
      "source": [
        "mnist = input_data.read_data_sets('data/mnist', one_hot=True)\n",
        "\n",
        "# Step 2: create placeholders for features and labels\n",
        "X = tf.placeholder(tf.float32, [batch_size, 784], name='image')\n",
        "Y = tf.placeholder(tf.float32, [batch_size, 10], name='label')\n",
        "\n",
        "# Step 3: create weights and bias\n",
        "w = tf.Variable(tf.zeros([784, 10]), dtype=tf.float32, name='weights')\n",
        "b = tf.Variable(tf.zeros([batch_size, 10]), dtype=tf.float32, name='biases')\n",
        "\n",
        "# Step 4: build model\n",
        "# the model that returns the logits.\n",
        "logits = cnn(X)\n",
        "\n",
        "# Step 5: define loss function\n",
        "entropy = tf.nn.softmax_cross_entropy_with_logits(logits=logits, labels=Y)\n",
        "loss = tf.reduce_mean(entropy)\n",
        "\n",
        "# Step 6: define training op\n",
        "# using gradient descent to minimize loss\n",
        "optimizer = tf.train.AdamOptimizer(learning_rate).minimize(loss)\n",
        "\n",
        "with tf.Session() as sess:\n",
        "    start_time = time.time()\n",
        "    sess.run(tf.global_variables_initializer())\n",
        "    n_batches = int(mnist.train.num_examples / batch_size)\n",
        "    for i in range(n_epochs):\n",
        "        total_loss = 0\n",
        "\n",
        "        for _ in range(n_batches):\n",
        "            X_batch, Y_batch = mnist.train.next_batch(batch_size)\n",
        "            _, loss_batch = sess.run([optimizer, loss], feed_dict={X: X_batch, Y: Y_batch})\n",
        "            total_loss += loss_batch\n",
        "        print('Average loss epoch {0}: {1}'.format(i, total_loss / n_batches))\n",
        "\n",
        "    print('Total time: {0} seconds'.format(time.time() - start_time))\n",
        "\n",
        "    print('Optimization Finished!')\n",
        "\n",
        "    # test the model\n",
        "    preds = tf.nn.softmax(logits)\n",
        "    correct_preds = tf.equal(tf.argmax(preds, 1), tf.argmax(Y, 1))\n",
        "    accuracy = tf.reduce_sum(tf.cast(correct_preds, tf.float32))  # need numpy.count_nonzero(boolarr) :(\n",
        "\n",
        "    n_batches = int(mnist.test.num_examples / batch_size)\n",
        "    total_correct_preds = 0\n",
        "\n",
        "    for i in range(n_batches):\n",
        "        X_batch, Y_batch = mnist.test.next_batch(batch_size)\n",
        "        accuracy_batch = sess.run(accuracy, feed_dict={X: X_batch, Y: Y_batch})\n",
        "        total_correct_preds += accuracy_batch\n",
        "\n",
        "    print('Accuracy {0}'.format(total_correct_preds / mnist.test.num_examples))\n"
      ],
      "execution_count": 28,
      "outputs": [
        {
          "output_type": "stream",
          "text": [
            "WARNING:tensorflow:From <ipython-input-28-5dc87e28d5ad>:1: read_data_sets (from tensorflow.contrib.learn.python.learn.datasets.mnist) is deprecated and will be removed in a future version.\n",
            "Instructions for updating:\n",
            "Please use alternatives such as official/mnist/dataset.py from tensorflow/models.\n",
            "WARNING:tensorflow:From /usr/local/lib/python2.7/dist-packages/tensorflow/contrib/learn/python/learn/datasets/mnist.py:260: maybe_download (from tensorflow.contrib.learn.python.learn.datasets.base) is deprecated and will be removed in a future version.\n",
            "Instructions for updating:\n",
            "Please write your own downloading logic.\n",
            "WARNING:tensorflow:From /usr/local/lib/python2.7/dist-packages/tensorflow/contrib/learn/python/learn/datasets/base.py:252: wrapped_fn (from tensorflow.contrib.learn.python.learn.datasets.base) is deprecated and will be removed in a future version.\n",
            "Instructions for updating:\n",
            "Please use urllib or similar directly.\n",
            "Successfully downloaded train-images-idx3-ubyte.gz 9912422 bytes.\n",
            "WARNING:tensorflow:From /usr/local/lib/python2.7/dist-packages/tensorflow/contrib/learn/python/learn/datasets/mnist.py:262: extract_images (from tensorflow.contrib.learn.python.learn.datasets.mnist) is deprecated and will be removed in a future version.\n",
            "Instructions for updating:\n",
            "Please use tf.data to implement this functionality.\n",
            "Extracting data/mnist/train-images-idx3-ubyte.gz\n",
            "Successfully downloaded train-labels-idx1-ubyte.gz 28881 bytes.\n",
            "WARNING:tensorflow:From /usr/local/lib/python2.7/dist-packages/tensorflow/contrib/learn/python/learn/datasets/mnist.py:267: extract_labels (from tensorflow.contrib.learn.python.learn.datasets.mnist) is deprecated and will be removed in a future version.\n",
            "Instructions for updating:\n",
            "Please use tf.data to implement this functionality.\n",
            "Extracting data/mnist/train-labels-idx1-ubyte.gz\n",
            "WARNING:tensorflow:From /usr/local/lib/python2.7/dist-packages/tensorflow/contrib/learn/python/learn/datasets/mnist.py:110: dense_to_one_hot (from tensorflow.contrib.learn.python.learn.datasets.mnist) is deprecated and will be removed in a future version.\n",
            "Instructions for updating:\n",
            "Please use tf.one_hot on tensors.\n",
            "Successfully downloaded t10k-images-idx3-ubyte.gz 1648877 bytes.\n",
            "Extracting data/mnist/t10k-images-idx3-ubyte.gz\n",
            "Successfully downloaded t10k-labels-idx1-ubyte.gz 4542 bytes.\n",
            "Extracting data/mnist/t10k-labels-idx1-ubyte.gz\n",
            "WARNING:tensorflow:From /usr/local/lib/python2.7/dist-packages/tensorflow/contrib/learn/python/learn/datasets/mnist.py:290: __init__ (from tensorflow.contrib.learn.python.learn.datasets.mnist) is deprecated and will be removed in a future version.\n",
            "Instructions for updating:\n",
            "Please use alternatives such as official/mnist/dataset.py from tensorflow/models.\n",
            "WARNING:tensorflow:From <ipython-input-28-5dc87e28d5ad>:16: softmax_cross_entropy_with_logits (from tensorflow.python.ops.nn_ops) is deprecated and will be removed in a future version.\n",
            "Instructions for updating:\n",
            "\n",
            "Future major versions of TensorFlow will allow gradients to flow\n",
            "into the labels input on backprop by default.\n",
            "\n",
            "See `tf.nn.softmax_cross_entropy_with_logits_v2`.\n",
            "\n",
            "Average loss epoch 0: 0.664868086994\n",
            "Average loss epoch 1: 0.0557461335002\n",
            "Average loss epoch 2: 0.0342281950098\n",
            "Average loss epoch 3: 0.0224332364622\n",
            "Average loss epoch 4: 0.0154216539307\n",
            "Average loss epoch 5: 0.0120937608881\n",
            "Average loss epoch 6: 0.00890686475344\n",
            "Average loss epoch 7: 0.00576304925851\n",
            "Average loss epoch 8: 0.00533119189973\n",
            "Average loss epoch 9: 0.0047404531425\n",
            "Average loss epoch 10: 0.00589114609581\n",
            "Average loss epoch 11: 0.00644153382691\n",
            "Average loss epoch 12: 0.00438819951013\n",
            "Average loss epoch 13: 0.00409866591964\n",
            "Average loss epoch 14: 0.00474240166948\n",
            "Average loss epoch 15: 0.00593415894186\n",
            "Average loss epoch 16: 0.00389778721606\n",
            "Average loss epoch 17: 0.00176223714\n",
            "Average loss epoch 18: 0.00100725111948\n",
            "Average loss epoch 19: 0.00394840065919\n",
            "Average loss epoch 20: 0.013825023805\n",
            "Average loss epoch 21: 0.00529166917963\n",
            "Average loss epoch 22: 0.00247575833967\n",
            "Average loss epoch 23: 0.00272086345483\n",
            "Average loss epoch 24: 0.0034251317598\n",
            "Total time: 104.908201933 seconds\n",
            "Optimization Finished!\n",
            "Accuracy 0.9895\n"
          ],
          "name": "stdout"
        }
      ]
    },
    {
      "metadata": {
        "id": "ql_kM2_2FXWQ",
        "colab_type": "code",
        "colab": {}
      },
      "cell_type": "code",
      "source": [
        ""
      ],
      "execution_count": 0,
      "outputs": []
    }
  ]
}